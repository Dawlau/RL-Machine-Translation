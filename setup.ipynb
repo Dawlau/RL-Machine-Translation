{
  "cells": [
    {
      "cell_type": "markdown",
      "metadata": {
        "id": "bNPQfuJtToFW"
      },
      "source": [
        "Make sure you use GPU env.\n",
        "Go to `Runtime->Change runtime type` to change the runtime resources."
      ]
    },
    {
      "cell_type": "markdown",
      "metadata": {
        "id": "U3IC8PhHan2_"
      },
      "source": [
        "First mount your google drive."
      ]
    },
    {
      "cell_type": "code",
      "execution_count": null,
      "metadata": {
        "colab": {
          "base_uri": "https://localhost:8080/"
        },
        "id": "jHu5w9CvM9jv",
        "outputId": "7f402ae6-73f2-4506-a2a9-e723931109f8"
      },
      "outputs": [
        {
          "name": "stdout",
          "output_type": "stream",
          "text": [
            "Mounted at /content/drive/\n"
          ]
        }
      ],
      "source": [
        "# from google.colab import drive\n",
        "# import os, sys\n",
        "# drive.mount('/content/drive/')"
      ]
    },
    {
      "cell_type": "markdown",
      "metadata": {
        "id": "yfyPoyYma3gS"
      },
      "source": [
        "Install `torch` and `fairseq`. You might want to store binaries in your google drive, so you don't need to install it every time. See https://stackoverflow.com/a/55253499 for details."
      ]
    },
    {
      "cell_type": "code",
      "execution_count": 1,
      "metadata": {
        "colab": {
          "base_uri": "https://localhost:8080/"
        },
        "id": "KIm0gMEZQhke",
        "outputId": "8d4d3dd7-2dc7-4aef-c43f-102aa7e563c7"
      },
      "outputs": [
        {
          "name": "stdout",
          "output_type": "stream",
          "text": [
            "Looking in indexes: https://pypi.org/simple, https://download.pytorch.org/whl/cu113\n",
            "Collecting torch==1.12.1+cu113\n",
            "  Downloading https://download.pytorch.org/whl/cu113/torch-1.12.1%2Bcu113-cp39-cp39-linux_x86_64.whl (1837.7 MB)\n",
            "\u001b[2K     \u001b[38;2;114;156;31m━━━━━━━━━━━━━━━━━━━━━━━━━━━━━━━━━━━━━━━━\u001b[0m \u001b[32m1.8/1.8 GB\u001b[0m \u001b[31m2.2 MB/s\u001b[0m eta \u001b[36m0:00:00\u001b[0mm eta \u001b[36m0:00:01\u001b[0m[36m0:00:06\u001b[0mm\n",
            "\u001b[?25hCollecting torchvision==0.13.1+cu113\n",
            "  Downloading https://download.pytorch.org/whl/cu113/torchvision-0.13.1%2Bcu113-cp39-cp39-linux_x86_64.whl (23.4 MB)\n",
            "\u001b[2K     \u001b[38;2;114;156;31m━━━━━━━━━━━━━━━━━━━━━━━━━━━━━━━━━━━━━━━━\u001b[0m \u001b[32m23.4/23.4 MB\u001b[0m \u001b[31m10.5 MB/s\u001b[0m eta \u001b[36m0:00:00\u001b[0mm eta \u001b[36m0:00:01\u001b[0m[36m0:00:01\u001b[0m\n",
            "\u001b[?25hCollecting torchaudio==0.12.1\n",
            "  Downloading https://download.pytorch.org/whl/cu113/torchaudio-0.12.1%2Bcu113-cp39-cp39-linux_x86_64.whl (3.8 MB)\n",
            "\u001b[2K     \u001b[38;2;114;156;31m━━━━━━━━━━━━━━━━━━━━━━━━━━━━━━━━━━━━━━━━\u001b[0m \u001b[32m3.8/3.8 MB\u001b[0m \u001b[31m9.8 MB/s\u001b[0m eta \u001b[36m0:00:00\u001b[0m MB/s\u001b[0m eta \u001b[36m0:00:01\u001b[0mm:01\u001b[0m\n",
            "\u001b[?25hRequirement already satisfied: typing-extensions in /home/andreib/miniconda3/envs/rl_nmt/lib/python3.9/site-packages (from torch==1.12.1+cu113) (4.6.2)\n",
            "Collecting pillow!=8.3.*,>=5.3.0\n",
            "  Downloading Pillow-9.5.0-cp39-cp39-manylinux_2_28_x86_64.whl (3.4 MB)\n",
            "\u001b[2K     \u001b[38;2;114;156;31m━━━━━━━━━━━━━━━━━━━━━━━━━━━━━━━━━━━━━━━━\u001b[0m \u001b[32m3.4/3.4 MB\u001b[0m \u001b[31m6.4 MB/s\u001b[0m eta \u001b[36m0:00:00\u001b[0m[31m6.0 MB/s\u001b[0m eta \u001b[36m0:00:01\u001b[0m\n",
            "\u001b[?25hCollecting requests\n",
            "  Downloading requests-2.31.0-py3-none-any.whl (62 kB)\n",
            "\u001b[2K     \u001b[38;2;114;156;31m━━━━━━━━━━━━━━━━━━━━━━━━━━━━━━━━━━━━━━━━\u001b[0m \u001b[32m62.6/62.6 kB\u001b[0m \u001b[31m4.6 MB/s\u001b[0m eta \u001b[36m0:00:00\u001b[0m\n",
            "\u001b[?25hCollecting numpy\n",
            "  Downloading numpy-1.24.3-cp39-cp39-manylinux_2_17_x86_64.manylinux2014_x86_64.whl (17.3 MB)\n",
            "\u001b[2K     \u001b[38;2;114;156;31m━━━━━━━━━━━━━━━━━━━━━━━━━━━━━━━━━━━━━━━━\u001b[0m \u001b[32m17.3/17.3 MB\u001b[0m \u001b[31m11.7 MB/s\u001b[0m eta \u001b[36m0:00:00\u001b[0mm eta \u001b[36m0:00:01\u001b[0m[36m0:00:01\u001b[0m\n",
            "\u001b[?25hCollecting charset-normalizer<4,>=2\n",
            "  Downloading charset_normalizer-3.1.0-cp39-cp39-manylinux_2_17_x86_64.manylinux2014_x86_64.whl (199 kB)\n",
            "\u001b[2K     \u001b[38;2;114;156;31m━━━━━━━━━━━━━━━━━━━━━━━━━━━━━━━━━━━━━━\u001b[0m \u001b[32m199.2/199.2 kB\u001b[0m \u001b[31m15.2 MB/s\u001b[0m eta \u001b[36m0:00:00\u001b[0m\n",
            "\u001b[?25hCollecting idna<4,>=2.5\n",
            "  Using cached https://download.pytorch.org/whl/idna-3.4-py3-none-any.whl (61 kB)\n",
            "Collecting urllib3<3,>=1.21.1\n",
            "  Using cached urllib3-2.0.2-py3-none-any.whl (123 kB)\n",
            "Collecting certifi>=2017.4.17\n",
            "  Using cached certifi-2023.5.7-py3-none-any.whl (156 kB)\n",
            "Installing collected packages: urllib3, torch, pillow, numpy, idna, charset-normalizer, certifi, torchaudio, requests, torchvision\n",
            "Successfully installed certifi-2023.5.7 charset-normalizer-3.1.0 idna-3.4 numpy-1.24.3 pillow-9.5.0 requests-2.31.0 torch-1.12.1+cu113 torchaudio-0.12.1+cu113 torchvision-0.13.1+cu113 urllib3-2.0.2\n"
          ]
        }
      ],
      "source": [
        "#make sure to use older torch version. fairseq doesn't work the best with torch2\n",
        "!pip install torch==1.12.1+cu113 torchvision==0.13.1+cu113 torchaudio==0.12.1 --extra-index-url https://download.pytorch.org/whl/cu113"
      ]
    },
    {
      "cell_type": "code",
      "execution_count": 2,
      "metadata": {
        "colab": {
          "base_uri": "https://localhost:8080/"
        },
        "id": "xGW-AEaLUuvd",
        "outputId": "2f890172-4155-4e39-9721-580ed863b87f"
      },
      "outputs": [
        {
          "name": "stdout",
          "output_type": "stream",
          "text": [
            "Collecting fairseq==0.12.2\n",
            "  Using cached fairseq-0.12.2.tar.gz (9.6 MB)\n",
            "  Installing build dependencies ... \u001b[?25ldone\n",
            "\u001b[?25h  Getting requirements to build wheel ... \u001b[?25ldone\n",
            "\u001b[?25h  Installing backend dependencies ... \u001b[?25ldone\n",
            "\u001b[?25h  Preparing metadata (pyproject.toml) ... \u001b[?25ldone\n",
            "\u001b[?25hCollecting bitarray\n",
            "  Downloading bitarray-2.7.3-cp39-cp39-manylinux_2_17_x86_64.manylinux2014_x86_64.whl (269 kB)\n",
            "\u001b[2K     \u001b[38;2;114;156;31m━━━━━━━━━━━━━━━━━━━━━━━━━━━━━━━━━━━━━━\u001b[0m \u001b[32m269.6/269.6 kB\u001b[0m \u001b[31m20.9 MB/s\u001b[0m eta \u001b[36m0:00:00\u001b[0m\n",
            "\u001b[?25hCollecting omegaconf<2.1\n",
            "  Using cached omegaconf-2.0.6-py3-none-any.whl (36 kB)\n",
            "Requirement already satisfied: torch in /home/andreib/miniconda3/envs/rl_nmt/lib/python3.9/site-packages (from fairseq==0.12.2) (1.12.1+cu113)\n",
            "Requirement already satisfied: numpy in /home/andreib/miniconda3/envs/rl_nmt/lib/python3.9/site-packages (from fairseq==0.12.2) (1.24.3)\n",
            "Requirement already satisfied: torchaudio>=0.8.0 in /home/andreib/miniconda3/envs/rl_nmt/lib/python3.9/site-packages (from fairseq==0.12.2) (0.12.1+cu113)\n",
            "Collecting sacrebleu>=1.4.12\n",
            "  Using cached sacrebleu-2.3.1-py3-none-any.whl (118 kB)\n",
            "Collecting tqdm\n",
            "  Using cached tqdm-4.65.0-py3-none-any.whl (77 kB)\n",
            "Collecting hydra-core<1.1,>=1.0.7\n",
            "  Using cached hydra_core-1.0.7-py3-none-any.whl (123 kB)\n",
            "Collecting regex\n",
            "  Downloading regex-2023.5.5-cp39-cp39-manylinux_2_17_x86_64.manylinux2014_x86_64.whl (769 kB)\n",
            "\u001b[2K     \u001b[38;2;114;156;31m━━━━━━━━━━━━━━━━━━━━━━━━━━━━━━━━━━━━━━━\u001b[0m \u001b[32m769.0/769.0 kB\u001b[0m \u001b[31m3.2 MB/s\u001b[0m eta \u001b[36m0:00:00\u001b[0m MB/s\u001b[0m eta \u001b[36m0:00:01\u001b[0m\n",
            "\u001b[?25hCollecting cffi\n",
            "  Downloading cffi-1.15.1-cp39-cp39-manylinux_2_17_x86_64.manylinux2014_x86_64.whl (441 kB)\n",
            "\u001b[2K     \u001b[38;2;114;156;31m━━━━━━━━━━━━━━━━━━━━━━━━━━━━━━━━━━━━━━━\u001b[0m \u001b[32m441.2/441.2 kB\u001b[0m \u001b[31m1.9 MB/s\u001b[0m eta \u001b[36m0:00:00\u001b[0m31m34.7 MB/s\u001b[0m eta \u001b[36m0:00:01\u001b[0m\n",
            "\u001b[?25hCollecting cython\n",
            "  Using cached Cython-0.29.35-cp39-cp39-manylinux_2_17_x86_64.manylinux2014_x86_64.manylinux_2_24_x86_64.whl (2.0 MB)\n",
            "Collecting antlr4-python3-runtime==4.8\n",
            "  Using cached antlr4-python3-runtime-4.8.tar.gz (112 kB)\n",
            "  Preparing metadata (setup.py) ... \u001b[?25ldone\n",
            "\u001b[?25hCollecting PyYAML>=5.1.*\n",
            "  Downloading PyYAML-6.0-cp39-cp39-manylinux_2_5_x86_64.manylinux1_x86_64.manylinux_2_12_x86_64.manylinux2010_x86_64.whl (661 kB)\n",
            "\u001b[2K     \u001b[38;2;114;156;31m━━━━━━━━━━━━━━━━━━━━━━━━━━━━━━━━━━━━━━\u001b[0m \u001b[32m661.8/661.8 kB\u001b[0m \u001b[31m22.3 MB/s\u001b[0m eta \u001b[36m0:00:00\u001b[0m\n",
            "\u001b[?25hRequirement already satisfied: typing-extensions in /home/andreib/miniconda3/envs/rl_nmt/lib/python3.9/site-packages (from omegaconf<2.1->fairseq==0.12.2) (4.6.2)\n",
            "Collecting tabulate>=0.8.9\n",
            "  Using cached tabulate-0.9.0-py3-none-any.whl (35 kB)\n",
            "Collecting lxml\n",
            "  Downloading lxml-4.9.2-cp39-cp39-manylinux_2_17_x86_64.manylinux2014_x86_64.manylinux_2_24_x86_64.whl (7.1 MB)\n",
            "\u001b[2K     \u001b[38;2;114;156;31m━━━━━━━━━━━━━━━━━━━━━━━━━━━━━━━━━━━━━━━━\u001b[0m \u001b[32m7.1/7.1 MB\u001b[0m \u001b[31m6.3 MB/s\u001b[0m eta \u001b[36m0:00:00\u001b[0mm eta \u001b[36m0:00:01\u001b[0m0:01\u001b[0m:01\u001b[0m\n",
            "\u001b[?25hCollecting portalocker\n",
            "  Using cached portalocker-2.7.0-py2.py3-none-any.whl (15 kB)\n",
            "Collecting colorama\n",
            "  Using cached colorama-0.4.6-py2.py3-none-any.whl (25 kB)\n",
            "Collecting pycparser\n",
            "  Using cached pycparser-2.21-py2.py3-none-any.whl (118 kB)\n",
            "Building wheels for collected packages: fairseq, antlr4-python3-runtime\n",
            "  Building wheel for fairseq (pyproject.toml) ... \u001b[?25ldone\n",
            "\u001b[?25h  Created wheel for fairseq: filename=fairseq-0.12.2-cp39-cp39-linux_x86_64.whl size=10394600 sha256=c2afc72e1264273da312f82af369dc25b65d11cd8c164c9b7d716bb80a72e1f3\n",
            "  Stored in directory: /home/andreib/.cache/pip/wheels/59/35/87/2baf2e4ad37c83fd698c486b3d39f0e7022226fa52ab469c31\n",
            "  Building wheel for antlr4-python3-runtime (setup.py) ... \u001b[?25ldone\n",
            "\u001b[?25h  Created wheel for antlr4-python3-runtime: filename=antlr4_python3_runtime-4.8-py3-none-any.whl size=141211 sha256=c3b9c05f932c5d37440d8260aa19dacb2e520978b68d7248a1486e986ced4a87\n",
            "  Stored in directory: /home/andreib/.cache/pip/wheels/42/3c/ae/14db087e6018de74810afe32eb6ac890ef9c68ba19b00db97a\n",
            "Successfully built fairseq antlr4-python3-runtime\n",
            "Installing collected packages: bitarray, antlr4-python3-runtime, tqdm, tabulate, regex, PyYAML, pycparser, portalocker, lxml, cython, colorama, sacrebleu, omegaconf, cffi, hydra-core, fairseq\n",
            "Successfully installed PyYAML-6.0 antlr4-python3-runtime-4.8 bitarray-2.7.3 cffi-1.15.1 colorama-0.4.6 cython-0.29.35 fairseq-0.12.2 hydra-core-1.0.7 lxml-4.9.2 omegaconf-2.0.6 portalocker-2.7.0 pycparser-2.21 regex-2023.5.5 sacrebleu-2.3.1 tabulate-0.9.0 tqdm-4.65.0\n"
          ]
        }
      ],
      "source": [
        "#install fairseq\n",
        "!pip install fairseq==0.12.2"
      ]
    },
    {
      "cell_type": "code",
      "execution_count": 3,
      "metadata": {
        "colab": {
          "base_uri": "https://localhost:8080/"
        },
        "id": "lQN_Y5WRWgAo",
        "outputId": "b1069d4e-f48b-4b5a-aa34-8cd3b1699416"
      },
      "outputs": [
        {
          "name": "stdout",
          "output_type": "stream",
          "text": [
            "Collecting sacremoses\n",
            "  Using cached sacremoses-0.0.53.tar.gz (880 kB)\n",
            "  Preparing metadata (setup.py) ... \u001b[?25ldone\n",
            "\u001b[?25hRequirement already satisfied: regex in /home/andreib/miniconda3/envs/rl_nmt/lib/python3.9/site-packages (from sacremoses) (2023.5.5)\n",
            "Requirement already satisfied: six in /home/andreib/miniconda3/envs/rl_nmt/lib/python3.9/site-packages (from sacremoses) (1.16.0)\n",
            "Collecting click\n",
            "  Using cached click-8.1.3-py3-none-any.whl (96 kB)\n",
            "Collecting joblib\n",
            "  Using cached joblib-1.2.0-py3-none-any.whl (297 kB)\n",
            "Requirement already satisfied: tqdm in /home/andreib/miniconda3/envs/rl_nmt/lib/python3.9/site-packages (from sacremoses) (4.65.0)\n",
            "Building wheels for collected packages: sacremoses\n",
            "  Building wheel for sacremoses (setup.py) ... \u001b[?25ldone\n",
            "\u001b[?25h  Created wheel for sacremoses: filename=sacremoses-0.0.53-py3-none-any.whl size=895241 sha256=cb4da52185fd94f2f045a2eefc26e1bba2bc0767e249e0375942cf0e22f57f12\n",
            "  Stored in directory: /home/andreib/.cache/pip/wheels/12/1c/3d/46cf06718d63a32ff798a89594b61e7f345ab6b36d909ce033\n",
            "Successfully built sacremoses\n",
            "Installing collected packages: joblib, click, sacremoses\n",
            "Successfully installed click-8.1.3 joblib-1.2.0 sacremoses-0.0.53\n"
          ]
        }
      ],
      "source": [
        "#sacremoses is needed to detokenize sentences for evaluation\n",
        "!pip install sacremoses"
      ]
    },
    {
      "cell_type": "code",
      "execution_count": 4,
      "metadata": {},
      "outputs": [
        {
          "name": "stdout",
          "output_type": "stream",
          "text": [
            "Collecting unbabel-comet\n",
            "  Using cached unbabel_comet-2.0.1-py3-none-any.whl (81 kB)\n",
            "Collecting jsonargparse==3.13.1\n",
            "  Using cached jsonargparse-3.13.1-py3-none-any.whl (101 kB)\n",
            "Collecting scipy<2.0.0,>=1.5.4\n",
            "  Downloading scipy-1.10.1-cp39-cp39-manylinux_2_17_x86_64.manylinux2014_x86_64.whl (34.5 MB)\n",
            "\u001b[2K     \u001b[38;2;114;156;31m━━━━━━━━━━━━━━━━━━━━━━━━━━━━━━━━━━━━━━━━\u001b[0m \u001b[32m34.5/34.5 MB\u001b[0m \u001b[31m10.3 MB/s\u001b[0m eta \u001b[36m0:00:00\u001b[0mm eta \u001b[36m0:00:01\u001b[0m[36m0:00:01\u001b[0m\n",
            "\u001b[?25hCollecting pandas<2.0.0,>=1.4.1\n",
            "  Downloading pandas-1.5.3-cp39-cp39-manylinux_2_17_x86_64.manylinux2014_x86_64.whl (12.2 MB)\n",
            "\u001b[2K     \u001b[38;2;114;156;31m━━━━━━━━━━━━━━━━━━━━━━━━━━━━━━━━━━━━━━━━\u001b[0m \u001b[32m12.2/12.2 MB\u001b[0m \u001b[31m11.8 MB/s\u001b[0m eta \u001b[36m0:00:00\u001b[0mm eta \u001b[36m0:00:01\u001b[0m[36m0:00:01\u001b[0m\n",
            "\u001b[?25hRequirement already satisfied: numpy<2.0.0,>=1.20.0 in /home/andreib/miniconda3/envs/rl_nmt/lib/python3.9/site-packages (from unbabel-comet) (1.24.3)\n",
            "Collecting transformers<5.0,>=4.17\n",
            "  Using cached transformers-4.29.2-py3-none-any.whl (7.1 MB)\n",
            "Collecting pytorch-lightning<2.0.0,>=1.6.4\n",
            "  Using cached pytorch_lightning-1.9.5-py3-none-any.whl (829 kB)\n",
            "Collecting sentencepiece<0.2.0,>=0.1.96\n",
            "  Downloading sentencepiece-0.1.99-cp39-cp39-manylinux_2_17_x86_64.manylinux2014_x86_64.whl (1.3 MB)\n",
            "\u001b[2K     \u001b[38;2;114;156;31m━━━━━━━━━━━━━━━━━━━━━━━━━━━━━━━━━━━━━━━━\u001b[0m \u001b[32m1.3/1.3 MB\u001b[0m \u001b[31m24.0 MB/s\u001b[0m eta \u001b[36m0:00:00\u001b[0m31m27.2 MB/s\u001b[0m eta \u001b[36m0:00:01\u001b[0m\n",
            "\u001b[?25hRequirement already satisfied: sacrebleu<3.0.0,>=2.0.0 in /home/andreib/miniconda3/envs/rl_nmt/lib/python3.9/site-packages (from unbabel-comet) (2.3.1)\n",
            "Collecting huggingface-hub<0.13.0,>=0.12.0\n",
            "  Using cached huggingface_hub-0.12.1-py3-none-any.whl (190 kB)\n",
            "Requirement already satisfied: torch>=1.6.0 in /home/andreib/miniconda3/envs/rl_nmt/lib/python3.9/site-packages (from unbabel-comet) (1.12.1+cu113)\n",
            "Collecting torchmetrics==0.8.2\n",
            "  Using cached torchmetrics-0.8.2-py3-none-any.whl (409 kB)\n",
            "Collecting entmax<2.0,>=1.1\n",
            "  Using cached entmax-1.1-py3-none-any.whl (12 kB)\n",
            "Requirement already satisfied: PyYAML>=3.13 in /home/andreib/miniconda3/envs/rl_nmt/lib/python3.9/site-packages (from jsonargparse==3.13.1->unbabel-comet) (6.0)\n",
            "Collecting pyDeprecate==0.3.*\n",
            "  Using cached pyDeprecate-0.3.2-py3-none-any.whl (10 kB)\n",
            "Requirement already satisfied: packaging in /home/andreib/miniconda3/envs/rl_nmt/lib/python3.9/site-packages (from torchmetrics==0.8.2->unbabel-comet) (23.1)\n",
            "Requirement already satisfied: requests in /home/andreib/miniconda3/envs/rl_nmt/lib/python3.9/site-packages (from huggingface-hub<0.13.0,>=0.12.0->unbabel-comet) (2.31.0)\n",
            "Requirement already satisfied: typing-extensions>=3.7.4.3 in /home/andreib/miniconda3/envs/rl_nmt/lib/python3.9/site-packages (from huggingface-hub<0.13.0,>=0.12.0->unbabel-comet) (4.6.2)\n",
            "Collecting filelock\n",
            "  Using cached filelock-3.12.0-py3-none-any.whl (10 kB)\n",
            "Requirement already satisfied: tqdm>=4.42.1 in /home/andreib/miniconda3/envs/rl_nmt/lib/python3.9/site-packages (from huggingface-hub<0.13.0,>=0.12.0->unbabel-comet) (4.65.0)\n",
            "Collecting pytz>=2020.1\n",
            "  Using cached pytz-2023.3-py2.py3-none-any.whl (502 kB)\n",
            "Requirement already satisfied: python-dateutil>=2.8.1 in /home/andreib/miniconda3/envs/rl_nmt/lib/python3.9/site-packages (from pandas<2.0.0,>=1.4.1->unbabel-comet) (2.8.2)\n",
            "Collecting lightning-utilities>=0.6.0.post0\n",
            "  Using cached lightning_utilities-0.8.0-py3-none-any.whl (20 kB)\n",
            "Collecting fsspec[http]>2021.06.0\n",
            "  Using cached fsspec-2023.5.0-py3-none-any.whl (160 kB)\n",
            "Requirement already satisfied: portalocker in /home/andreib/miniconda3/envs/rl_nmt/lib/python3.9/site-packages (from sacrebleu<3.0.0,>=2.0.0->unbabel-comet) (2.7.0)\n",
            "Requirement already satisfied: colorama in /home/andreib/miniconda3/envs/rl_nmt/lib/python3.9/site-packages (from sacrebleu<3.0.0,>=2.0.0->unbabel-comet) (0.4.6)\n",
            "Requirement already satisfied: tabulate>=0.8.9 in /home/andreib/miniconda3/envs/rl_nmt/lib/python3.9/site-packages (from sacrebleu<3.0.0,>=2.0.0->unbabel-comet) (0.9.0)\n",
            "Requirement already satisfied: lxml in /home/andreib/miniconda3/envs/rl_nmt/lib/python3.9/site-packages (from sacrebleu<3.0.0,>=2.0.0->unbabel-comet) (4.9.2)\n",
            "Requirement already satisfied: regex in /home/andreib/miniconda3/envs/rl_nmt/lib/python3.9/site-packages (from sacrebleu<3.0.0,>=2.0.0->unbabel-comet) (2023.5.5)\n",
            "Collecting tokenizers!=0.11.3,<0.14,>=0.11.1\n",
            "  Downloading tokenizers-0.13.3-cp39-cp39-manylinux_2_17_x86_64.manylinux2014_x86_64.whl (7.8 MB)\n",
            "\u001b[2K     \u001b[38;2;114;156;31m━━━━━━━━━━━━━━━━━━━━━━━━━━━━━━━━━━━━━━━━\u001b[0m \u001b[32m7.8/7.8 MB\u001b[0m \u001b[31m16.9 MB/s\u001b[0m eta \u001b[36m0:00:00\u001b[0mm eta \u001b[36m0:00:01\u001b[0m0:01\u001b[0m:01\u001b[0m\n",
            "\u001b[?25hCollecting transformers<5.0,>=4.17\n",
            "  Using cached transformers-4.29.1-py3-none-any.whl (7.1 MB)\n",
            "  Using cached transformers-4.29.0-py3-none-any.whl (7.1 MB)\n",
            "Collecting aiohttp!=4.0.0a0,!=4.0.0a1\n",
            "  Downloading aiohttp-3.8.4-cp39-cp39-manylinux_2_17_x86_64.manylinux2014_x86_64.whl (1.0 MB)\n",
            "\u001b[2K     \u001b[38;2;114;156;31m━━━━━━━━━━━━━━━━━━━━━━━━━━━━━━━━━━━━━━━━\u001b[0m \u001b[32m1.0/1.0 MB\u001b[0m \u001b[31m22.1 MB/s\u001b[0m eta \u001b[36m0:00:00\u001b[0m MB/s\u001b[0m eta \u001b[36m0:00:01\u001b[0m\n",
            "\u001b[?25hRequirement already satisfied: six>=1.5 in /home/andreib/miniconda3/envs/rl_nmt/lib/python3.9/site-packages (from python-dateutil>=2.8.1->pandas<2.0.0,>=1.4.1->unbabel-comet) (1.16.0)\n",
            "Requirement already satisfied: charset-normalizer<4,>=2 in /home/andreib/miniconda3/envs/rl_nmt/lib/python3.9/site-packages (from requests->huggingface-hub<0.13.0,>=0.12.0->unbabel-comet) (3.1.0)\n",
            "Requirement already satisfied: certifi>=2017.4.17 in /home/andreib/miniconda3/envs/rl_nmt/lib/python3.9/site-packages (from requests->huggingface-hub<0.13.0,>=0.12.0->unbabel-comet) (2023.5.7)\n",
            "Requirement already satisfied: urllib3<3,>=1.21.1 in /home/andreib/miniconda3/envs/rl_nmt/lib/python3.9/site-packages (from requests->huggingface-hub<0.13.0,>=0.12.0->unbabel-comet) (2.0.2)\n",
            "Requirement already satisfied: idna<4,>=2.5 in /home/andreib/miniconda3/envs/rl_nmt/lib/python3.9/site-packages (from requests->huggingface-hub<0.13.0,>=0.12.0->unbabel-comet) (3.4)\n",
            "Collecting frozenlist>=1.1.1\n",
            "  Downloading frozenlist-1.3.3-cp39-cp39-manylinux_2_5_x86_64.manylinux1_x86_64.manylinux_2_17_x86_64.manylinux2014_x86_64.whl (158 kB)\n",
            "\u001b[2K     \u001b[38;2;114;156;31m━━━━━━━━━━━━━━━━━━━━━━━━━━━━━━━━━━━━━━\u001b[0m \u001b[32m158.8/158.8 kB\u001b[0m \u001b[31m16.9 MB/s\u001b[0m eta \u001b[36m0:00:00\u001b[0m\n",
            "\u001b[?25hCollecting aiosignal>=1.1.2\n",
            "  Using cached aiosignal-1.3.1-py3-none-any.whl (7.6 kB)\n",
            "Collecting async-timeout<5.0,>=4.0.0a3\n",
            "  Using cached async_timeout-4.0.2-py3-none-any.whl (5.8 kB)\n",
            "Collecting yarl<2.0,>=1.0\n",
            "  Downloading yarl-1.9.2-cp39-cp39-manylinux_2_17_x86_64.manylinux2014_x86_64.whl (269 kB)\n",
            "\u001b[2K     \u001b[38;2;114;156;31m━━━━━━━━━━━━━━━━━━━━━━━━━━━━━━━━━━━━━━\u001b[0m \u001b[32m269.4/269.4 kB\u001b[0m \u001b[31m20.0 MB/s\u001b[0m eta \u001b[36m0:00:00\u001b[0m\n",
            "\u001b[?25hCollecting attrs>=17.3.0\n",
            "  Using cached attrs-23.1.0-py3-none-any.whl (61 kB)\n",
            "Collecting multidict<7.0,>=4.5\n",
            "  Downloading multidict-6.0.4-cp39-cp39-manylinux_2_17_x86_64.manylinux2014_x86_64.whl (114 kB)\n",
            "\u001b[2K     \u001b[38;2;114;156;31m━━━━━━━━━━━━━━━━━━━━━━━━━━━━━━━━━━━━━━\u001b[0m \u001b[32m114.2/114.2 kB\u001b[0m \u001b[31m16.6 MB/s\u001b[0m eta \u001b[36m0:00:00\u001b[0m\n",
            "\u001b[?25hInstalling collected packages: tokenizers, sentencepiece, pytz, scipy, pyDeprecate, multidict, lightning-utilities, jsonargparse, fsspec, frozenlist, filelock, attrs, async-timeout, yarl, torchmetrics, pandas, huggingface-hub, entmax, aiosignal, transformers, aiohttp, pytorch-lightning, unbabel-comet\n",
            "Successfully installed aiohttp-3.8.4 aiosignal-1.3.1 async-timeout-4.0.2 attrs-23.1.0 entmax-1.1 filelock-3.12.0 frozenlist-1.3.3 fsspec-2023.5.0 huggingface-hub-0.12.1 jsonargparse-3.13.1 lightning-utilities-0.8.0 multidict-6.0.4 pandas-1.5.3 pyDeprecate-0.3.2 pytorch-lightning-1.9.5 pytz-2023.3 scipy-1.10.1 sentencepiece-0.1.99 tokenizers-0.13.3 torchmetrics-0.8.2 transformers-4.29.0 unbabel-comet-2.0.1 yarl-1.9.2\n"
          ]
        }
      ],
      "source": [
        "# install comet\n",
        "!pip install unbabel-comet"
      ]
    },
    {
      "cell_type": "code",
      "execution_count": null,
      "metadata": {},
      "outputs": [],
      "source": [
        "# install bleurt\n",
        "!git clone https://github.com/google-research/bleurt.git\n",
        "%cd bleurt\n",
        "!pip install .\n",
        "%cd ..\n",
        "\n",
        "!wget https://storage.googleapis.com/bleurt-oss-21/BLEURT-20.zip\n",
        "!unzip BLEURT-20.zip -d ."
      ]
    },
    {
      "cell_type": "markdown",
      "metadata": {
        "id": "7ZTwSZYZbVu2"
      },
      "source": [
        "Clone the repo you are going to work with. You need to fork the project repo https://github.com/afeena/fairseq_easy_extend.git\n",
        "\n",
        "`cmlm_transformer_base` and `rl_criterion` files created for your convinience."
      ]
    },
    {
      "cell_type": "code",
      "execution_count": 1,
      "metadata": {
        "colab": {
          "base_uri": "https://localhost:8080/"
        },
        "id": "4o-giZznNCH4",
        "outputId": "18e82aac-ea8a-40a3-9a40-ba181612b7f3"
      },
      "outputs": [],
      "source": [
        "import os\n",
        "!git clone https://github.com/Dawlau/fairseq_extend #here change to your own repo"
      ]
    },
    {
      "cell_type": "markdown",
      "metadata": {
        "id": "rtMqznj4XLoH"
      },
      "source": [
        "Baseline BLEU4 = 20.18"
      ]
    }
  ],
  "metadata": {
    "colab": {
      "provenance": []
    },
    "gpuClass": "standard",
    "kernelspec": {
      "display_name": "Python 3",
      "name": "python3"
    },
    "language_info": {
      "codemirror_mode": {
        "name": "ipython",
        "version": 3
      },
      "file_extension": ".py",
      "mimetype": "text/x-python",
      "name": "python",
      "nbconvert_exporter": "python",
      "pygments_lexer": "ipython3",
      "version": "3.9.16"
    }
  },
  "nbformat": 4,
  "nbformat_minor": 0
}
